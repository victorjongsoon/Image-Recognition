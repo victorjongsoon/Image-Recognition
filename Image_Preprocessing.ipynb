{
 "cells": [
  {
   "cell_type": "code",
   "execution_count": 6,
   "metadata": {},
   "outputs": [],
   "source": [
    "from tensorflow import keras\n",
    "import os, shutil"
   ]
  },
  {
   "cell_type": "code",
   "execution_count": 7,
   "metadata": {},
   "outputs": [],
   "source": [
    "base_dir = os.getcwd() #Set the base directory as the current directory\n",
    "image_dir = 'C:/Users/victo/Desktop/Semester 3.2/DEEP LEARNING/Assignment 1/food-101/food-101/images' # #Set the base directory as where you save the downloaded food_images"
   ]
  },
  {
   "cell_type": "code",
   "execution_count": 8,
   "metadata": {},
   "outputs": [
    {
     "ename": "FileExistsError",
     "evalue": "[WinError 183] Cannot create a file when that file already exists: 'C:\\\\Users\\\\victo\\\\Desktop\\\\Semester 3.2\\\\DEEP LEARNING\\\\Assignment 1\\\\workspace\\\\train'",
     "output_type": "error",
     "traceback": [
      "\u001b[1;31m---------------------------------------------------------------------------\u001b[0m",
      "\u001b[1;31mFileExistsError\u001b[0m                           Traceback (most recent call last)",
      "\u001b[1;32m<ipython-input-8-d5d708d8eaec>\u001b[0m in \u001b[0;36m<module>\u001b[1;34m\u001b[0m\n\u001b[0;32m      1\u001b[0m \u001b[1;31m# Directories for your training, validation and test splits\u001b[0m\u001b[1;33m\u001b[0m\u001b[1;33m\u001b[0m\u001b[1;33m\u001b[0m\u001b[0m\n\u001b[0;32m      2\u001b[0m \u001b[0mtrain_dir\u001b[0m \u001b[1;33m=\u001b[0m \u001b[0mos\u001b[0m\u001b[1;33m.\u001b[0m\u001b[0mpath\u001b[0m\u001b[1;33m.\u001b[0m\u001b[0mjoin\u001b[0m\u001b[1;33m(\u001b[0m\u001b[0mbase_dir\u001b[0m\u001b[1;33m,\u001b[0m \u001b[1;34m'train'\u001b[0m\u001b[1;33m)\u001b[0m\u001b[1;33m\u001b[0m\u001b[1;33m\u001b[0m\u001b[0m\n\u001b[1;32m----> 3\u001b[1;33m \u001b[0mos\u001b[0m\u001b[1;33m.\u001b[0m\u001b[0mmkdir\u001b[0m\u001b[1;33m(\u001b[0m\u001b[0mtrain_dir\u001b[0m\u001b[1;33m)\u001b[0m\u001b[1;33m\u001b[0m\u001b[1;33m\u001b[0m\u001b[0m\n\u001b[0m\u001b[0;32m      4\u001b[0m \u001b[0mvalidation_dir\u001b[0m \u001b[1;33m=\u001b[0m \u001b[0mos\u001b[0m\u001b[1;33m.\u001b[0m\u001b[0mpath\u001b[0m\u001b[1;33m.\u001b[0m\u001b[0mjoin\u001b[0m\u001b[1;33m(\u001b[0m\u001b[0mbase_dir\u001b[0m\u001b[1;33m,\u001b[0m \u001b[1;34m'validation'\u001b[0m\u001b[1;33m)\u001b[0m\u001b[1;33m\u001b[0m\u001b[1;33m\u001b[0m\u001b[0m\n\u001b[0;32m      5\u001b[0m \u001b[0mos\u001b[0m\u001b[1;33m.\u001b[0m\u001b[0mmkdir\u001b[0m\u001b[1;33m(\u001b[0m\u001b[0mvalidation_dir\u001b[0m\u001b[1;33m)\u001b[0m\u001b[1;33m\u001b[0m\u001b[1;33m\u001b[0m\u001b[0m\n",
      "\u001b[1;31mFileExistsError\u001b[0m: [WinError 183] Cannot create a file when that file already exists: 'C:\\\\Users\\\\victo\\\\Desktop\\\\Semester 3.2\\\\DEEP LEARNING\\\\Assignment 1\\\\workspace\\\\train'"
     ]
    }
   ],
   "source": [
    "# Directories for your training, validation and test splits\n",
    "train_dir = os.path.join(base_dir, 'train')\n",
    "os.mkdir(train_dir)\n",
    "validation_dir = os.path.join(base_dir, 'validation')\n",
    "os.mkdir(validation_dir)\n",
    "test_dir = os.path.join(base_dir, 'test')\n",
    "os.mkdir(test_dir)"
   ]
  },
  {
   "cell_type": "code",
   "execution_count": 9,
   "metadata": {},
   "outputs": [],
   "source": [
    "# Assign the 10 types of food from your .txt file to a list variable 'food_list'\n",
    "   \n",
    "label_file = os.path.join(base_dir, '23.txt') \n",
    "# Refer the report Appendix\n",
    "# Please enter the name of .txt file which contains a list of food assigned to you\n",
    "# Make Sure you copy the .txt file in base_dir\n",
    "\n",
    "with open(label_file, 'r') as f:\n",
    "    x = f.readlines()\n",
    "    \n",
    "food_list =[]\n",
    "for item in x:\n",
    "    if item == '\\n':\n",
    "        continue        \n",
    "    else:\n",
    "        food_list.append(item.strip('\\n'))"
   ]
  },
  {
   "cell_type": "code",
   "execution_count": 10,
   "metadata": {},
   "outputs": [],
   "source": [
    "#copy the first 750 images to train folder\n",
    "for item in food_list:\n",
    "    train_food_dir = os.path.join(train_dir, item)\n",
    "    os.mkdir(train_food_dir)\n",
    "    img_list = os.listdir(os.path.join(image_dir, item))[:750]\n",
    "    for fname in img_list:\n",
    "        src = os.path.join(image_dir, item, fname)\n",
    "        dst = os.path.join(train_food_dir, fname)\n",
    "        shutil.copyfile(src, dst)"
   ]
  },
  {
   "cell_type": "code",
   "execution_count": 11,
   "metadata": {},
   "outputs": [],
   "source": [
    "#copy the following 200 images [750:950] to validation folder\n",
    "for item in food_list:\n",
    "    validation_food_dir = os.path.join(validation_dir, item)\n",
    "    os.mkdir(validation_food_dir)\n",
    "    img_list = os.listdir(os.path.join(image_dir, item))[750:950]\n",
    "    for fname in img_list:\n",
    "        src = os.path.join(image_dir, item, fname)\n",
    "        dst = os.path.join(validation_food_dir, fname)\n",
    "        shutil.copyfile(src, dst)"
   ]
  },
  {
   "cell_type": "code",
   "execution_count": 12,
   "metadata": {},
   "outputs": [],
   "source": [
    "#copy the rest 50 images [950:1000] to test folder\n",
    "for item in food_list:\n",
    "    test_food_dir = os.path.join(test_dir, item)\n",
    "    os.mkdir(test_food_dir)\n",
    "    img_list = os.listdir(os.path.join(image_dir, item))[950:1000]\n",
    "    for fname in img_list:\n",
    "        src = os.path.join(image_dir, item, fname)\n",
    "        dst = os.path.join(test_food_dir, fname)\n",
    "        shutil.copyfile(src, dst)"
   ]
  },
  {
   "cell_type": "code",
   "execution_count": null,
   "metadata": {},
   "outputs": [],
   "source": []
  }
 ],
 "metadata": {
  "kernelspec": {
   "display_name": "Python 3",
   "language": "python",
   "name": "python3"
  },
  "language_info": {
   "codemirror_mode": {
    "name": "ipython",
    "version": 3
   },
   "file_extension": ".py",
   "mimetype": "text/x-python",
   "name": "python",
   "nbconvert_exporter": "python",
   "pygments_lexer": "ipython3",
   "version": "3.6.12"
  }
 },
 "nbformat": 4,
 "nbformat_minor": 2
}
